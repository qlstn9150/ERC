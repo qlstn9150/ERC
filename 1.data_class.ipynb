{
 "cells": [
  {
   "cell_type": "code",
   "execution_count": 1,
   "id": "a367e4ca-4bb7-4608-b3f0-4d667608af81",
   "metadata": {},
   "outputs": [],
   "source": [
    "import os\n",
    "import numpy as np\n",
    "import pandas as pd\n",
    "import matplotlib as mpl\n",
    "import matplotlib.pyplot as plt\n",
    "from tqdm import tqdm"
   ]
  },
  {
   "cell_type": "code",
   "execution_count": 15,
   "id": "7b1bb6db-9361-446c-bee8-936cc35ee2c7",
   "metadata": {},
   "outputs": [],
   "source": [
    "#경로 설정\n",
    "directory= 'C:\\\\Users\\\\USER\\\\PycharmProjects\\\\ERC\\\\'\n",
    "os.chdir(directory)"
   ]
  },
  {
   "cell_type": "markdown",
   "id": "63c46584-80e8-4ab2-910c-a73732a88b31",
   "metadata": {},
   "source": [
    "annotation 취합\n",
    "---"
   ]
  },
  {
   "cell_type": "code",
   "execution_count": 16,
   "id": "679c292e-d39a-4666-91e5-b61aec984cf1",
   "metadata": {},
   "outputs": [],
   "source": [
    "ann = os.path.join(directory, 'data/20/annotation')\n",
    "files = os.listdir(ann)\n",
    "filescnt_wav = [i for i in files if i.endswith('.csv')]\n",
    "\n",
    "df_all = pd.DataFrame()\n",
    "for i in range(0, len(filescnt_wav)) :\n",
    "    file = filescnt_wav[i]\n",
    "    df = pd.read_csv(os.path.join(ann, file), encoding = 'utf-8')\n",
    "    df['filename'] = file.split('_eval')[0]\n",
    "    df_all = pd.concat([df_all, df])\n",
    "sess_df = df_all.drop([0],axis = 0)"
   ]
  },
  {
   "cell_type": "markdown",
   "id": "c9ee1f80-fdc3-4f2b-9ada-90b37739f99b",
   "metadata": {},
   "source": [
    "wav/txt 취합\n",
    "---"
   ]
  },
  {
   "cell_type": "code",
   "execution_count": 17,
   "id": "68377d66-aba0-48d2-ae5d-ad08148095a3",
   "metadata": {},
   "outputs": [],
   "source": [
    "def search(dirname):\n",
    "    result = []\n",
    "    filenames = os.listdir(dirname)\n",
    "    for filename in filenames:\n",
    "        full_filename = dirname + '//' + filename\n",
    "        result.append(full_filename)    \n",
    "    return result"
   ]
  },
  {
   "cell_type": "code",
   "execution_count": 18,
   "id": "df9fb531-a677-4b15-91d1-530513fecafe",
   "metadata": {},
   "outputs": [],
   "source": [
    "wav_path = os.path.join(directory, 'data/20/wav')\n",
    "wav_sess = search(wav_path)"
   ]
  },
  {
   "cell_type": "code",
   "execution_count": 19,
   "id": "6122a39a-b68c-4fbb-a9a2-0d5388ae7dcd",
   "metadata": {},
   "outputs": [],
   "source": [
    "txt_files = []\n",
    "wav_files = []\n",
    "\n",
    "for i in wav_sess:\n",
    "    filenames = os.listdir(i)\n",
    "    direc = i[42:]\n",
    "    for filename in filenames:\n",
    "        full_filename = direc + '//' + filename\n",
    "        if full_filename[-3:] == 'wav':\n",
    "            wav_files.append(full_filename)\n",
    "        elif full_filename[-3:] == 'txt':\n",
    "            txt_files.append(full_filename)\n",
    "        else:\n",
    "            print('wrong!')"
   ]
  },
  {
   "cell_type": "code",
   "execution_count": 20,
   "id": "c9baba3e-dc23-4be7-b190-6e4cceaec6b6",
   "metadata": {},
   "outputs": [],
   "source": [
    "total = pd.DataFrame({'Audio': wav_files,\n",
    "                      'Text': txt_files,\n",
    "                      'Emotion': wav_files,\n",
    "                      'Arousal': wav_files,\n",
    "                      'Valence': wav_files})"
   ]
  },
  {
   "cell_type": "markdown",
   "id": "7d232adb-207a-4b9e-b0af-938320f84ebb",
   "metadata": {},
   "source": [
    "전체 데이터 취합\n",
    "---"
   ]
  },
  {
   "cell_type": "code",
   "execution_count": 21,
   "id": "f0da9bfe-2116-4774-a1f6-9a90d440a5ba",
   "metadata": {},
   "outputs": [
    {
     "name": "stderr",
     "output_type": "stream",
     "text": [
      "100%|██████████████████████████████████████████████████████████████████████████| 13462/13462 [00:02<00:00, 4773.53it/s]\n"
     ]
    }
   ],
   "source": [
    "path = directory+'data/20/'\n",
    "for i in tqdm(range(total.shape[0])):\n",
    "    directory = os.path.join(path, total.iloc[i, 1])\n",
    "    with open (directory, 'r') as text:\n",
    "        string = text.readlines()\n",
    "    total.iloc[i, 1] = string[0].replace('\\n', '')"
   ]
  },
  {
   "cell_type": "code",
   "execution_count": 23,
   "id": "143e5e61-2365-494a-966a-b4771ddf78d3",
   "metadata": {},
   "outputs": [
    {
     "name": "stderr",
     "output_type": "stream",
     "text": [
      "100%|███████████████████████████████████████████████████████████████████████████| 13462/13462 [00:34<00:00, 395.69it/s]\n"
     ]
    }
   ],
   "source": [
    "for i in tqdm(range(total.shape[0])):\n",
    "    file_name = total.iloc[i, 2][16:-4]\n",
    "    total.iloc[i, 2] = sess_df[sess_df['Segment ID'] == file_name].iloc[0, 4]\n",
    "    total.iloc[i, 3] = sess_df[sess_df['Segment ID'] == file_name].iloc[0, 6]\n",
    "    total.iloc[i, 4] = sess_df[sess_df['Segment ID'] == file_name].iloc[0, 5]"
   ]
  },
  {
   "cell_type": "code",
   "execution_count": 24,
   "id": "92913f52-a5c4-4b33-a336-401adb22a3c1",
   "metadata": {},
   "outputs": [
    {
     "data": {
      "text/html": [
       "<div>\n",
       "<style scoped>\n",
       "    .dataframe tbody tr th:only-of-type {\n",
       "        vertical-align: middle;\n",
       "    }\n",
       "\n",
       "    .dataframe tbody tr th {\n",
       "        vertical-align: top;\n",
       "    }\n",
       "\n",
       "    .dataframe thead th {\n",
       "        text-align: right;\n",
       "    }\n",
       "</style>\n",
       "<table border=\"1\" class=\"dataframe\">\n",
       "  <thead>\n",
       "    <tr style=\"text-align: right;\">\n",
       "      <th></th>\n",
       "      <th>Audio</th>\n",
       "      <th>Text</th>\n",
       "      <th>Emotion</th>\n",
       "      <th>Arousal</th>\n",
       "      <th>Valence</th>\n",
       "    </tr>\n",
       "  </thead>\n",
       "  <tbody>\n",
       "    <tr>\n",
       "      <th>0</th>\n",
       "      <td>wav//Session01//Sess01_script01_User001F_001.wav</td>\n",
       "      <td>n/ 아 친구들도? l/</td>\n",
       "      <td>neutral</td>\n",
       "      <td>2.8</td>\n",
       "      <td>3.8</td>\n",
       "    </tr>\n",
       "    <tr>\n",
       "      <th>1</th>\n",
       "      <td>wav//Session01//Sess01_script01_User001F_002.wav</td>\n",
       "      <td>l/ 나는 생일?</td>\n",
       "      <td>neutral</td>\n",
       "      <td>3.1</td>\n",
       "      <td>3.3</td>\n",
       "    </tr>\n",
       "    <tr>\n",
       "      <th>2</th>\n",
       "      <td>wav//Session01//Sess01_script01_User001F_003.wav</td>\n",
       "      <td>생일날이면은 b/ 내가 고기를 되게 좋아하니까 엄마도 그걸 아니까 미역국도 같이 해...</td>\n",
       "      <td>neutral</td>\n",
       "      <td>3.1</td>\n",
       "      <td>3.3</td>\n",
       "    </tr>\n",
       "    <tr>\n",
       "      <th>3</th>\n",
       "      <td>wav//Session01//Sess01_script01_User001F_004.wav</td>\n",
       "      <td>b/ 선물이라 이 보통 돈으로 주시지. l/</td>\n",
       "      <td>happy</td>\n",
       "      <td>3.1</td>\n",
       "      <td>3.6</td>\n",
       "    </tr>\n",
       "    <tr>\n",
       "      <th>4</th>\n",
       "      <td>wav//Session01//Sess01_script01_User001F_005.wav</td>\n",
       "      <td>l/ 용돈으로 주시고.</td>\n",
       "      <td>neutral</td>\n",
       "      <td>3.2</td>\n",
       "      <td>3.5</td>\n",
       "    </tr>\n",
       "    <tr>\n",
       "      <th>...</th>\n",
       "      <td>...</td>\n",
       "      <td>...</td>\n",
       "      <td>...</td>\n",
       "      <td>...</td>\n",
       "      <td>...</td>\n",
       "    </tr>\n",
       "    <tr>\n",
       "      <th>13457</th>\n",
       "      <td>wav//Session40//Sess40_script06_User080F_021.wav</td>\n",
       "      <td>어, 암튼 그런 것처럼 이게 그니까 여자들은 근데 그런 거에 대해서 어 나쁘게 생각 어.</td>\n",
       "      <td>neutral</td>\n",
       "      <td>3.5</td>\n",
       "      <td>2.6</td>\n",
       "    </tr>\n",
       "    <tr>\n",
       "      <th>13458</th>\n",
       "      <td>wav//Session40//Sess40_script06_User080F_022.wav</td>\n",
       "      <td>그치, 근데 그거를 u/ 아 모르겠어.</td>\n",
       "      <td>neutral</td>\n",
       "      <td>3.7</td>\n",
       "      <td>3</td>\n",
       "    </tr>\n",
       "    <tr>\n",
       "      <th>13459</th>\n",
       "      <td>wav//Session40//Sess40_script06_User080F_023.wav</td>\n",
       "      <td>u/ 그걸 점점 발전을 시키잖아, 사람처럼 느껴지게.</td>\n",
       "      <td>neutral</td>\n",
       "      <td>3.7</td>\n",
       "      <td>2.9</td>\n",
       "    </tr>\n",
       "    <tr>\n",
       "      <th>13460</th>\n",
       "      <td>wav//Session40//Sess40_script06_User080F_024.wav</td>\n",
       "      <td>그래서 가격도 달라지고 어 그니까 그런 식으로 이렇게 잘못 사용하게 되면 그니까 잘...</td>\n",
       "      <td>neutral</td>\n",
       "      <td>3.7</td>\n",
       "      <td>2.4</td>\n",
       "    </tr>\n",
       "    <tr>\n",
       "      <th>13461</th>\n",
       "      <td>wav//Session40//Sess40_script06_User080F_025.wav</td>\n",
       "      <td>뭐 진짜 막 어떤 욕심이 가득 찬 사람은 내가 원하는 어떤 외형적인 거나 그런 성격...</td>\n",
       "      <td>neutral</td>\n",
       "      <td>3.5</td>\n",
       "      <td>2.7</td>\n",
       "    </tr>\n",
       "  </tbody>\n",
       "</table>\n",
       "<p>13462 rows × 5 columns</p>\n",
       "</div>"
      ],
      "text/plain": [
       "                                                  Audio  \\\n",
       "0      wav//Session01//Sess01_script01_User001F_001.wav   \n",
       "1      wav//Session01//Sess01_script01_User001F_002.wav   \n",
       "2      wav//Session01//Sess01_script01_User001F_003.wav   \n",
       "3      wav//Session01//Sess01_script01_User001F_004.wav   \n",
       "4      wav//Session01//Sess01_script01_User001F_005.wav   \n",
       "...                                                 ...   \n",
       "13457  wav//Session40//Sess40_script06_User080F_021.wav   \n",
       "13458  wav//Session40//Sess40_script06_User080F_022.wav   \n",
       "13459  wav//Session40//Sess40_script06_User080F_023.wav   \n",
       "13460  wav//Session40//Sess40_script06_User080F_024.wav   \n",
       "13461  wav//Session40//Sess40_script06_User080F_025.wav   \n",
       "\n",
       "                                                    Text  Emotion Arousal  \\\n",
       "0                                          n/ 아 친구들도? l/  neutral     2.8   \n",
       "1                                              l/ 나는 생일?  neutral     3.1   \n",
       "2      생일날이면은 b/ 내가 고기를 되게 좋아하니까 엄마도 그걸 아니까 미역국도 같이 해...  neutral     3.1   \n",
       "3                               b/ 선물이라 이 보통 돈으로 주시지. l/    happy     3.1   \n",
       "4                                           l/ 용돈으로 주시고.  neutral     3.2   \n",
       "...                                                  ...      ...     ...   \n",
       "13457  어, 암튼 그런 것처럼 이게 그니까 여자들은 근데 그런 거에 대해서 어 나쁘게 생각 어.  neutral     3.5   \n",
       "13458                              그치, 근데 그거를 u/ 아 모르겠어.  neutral     3.7   \n",
       "13459                      u/ 그걸 점점 발전을 시키잖아, 사람처럼 느껴지게.  neutral     3.7   \n",
       "13460  그래서 가격도 달라지고 어 그니까 그런 식으로 이렇게 잘못 사용하게 되면 그니까 잘...  neutral     3.7   \n",
       "13461  뭐 진짜 막 어떤 욕심이 가득 찬 사람은 내가 원하는 어떤 외형적인 거나 그런 성격...  neutral     3.5   \n",
       "\n",
       "      Valence  \n",
       "0         3.8  \n",
       "1         3.3  \n",
       "2         3.3  \n",
       "3         3.6  \n",
       "4         3.5  \n",
       "...       ...  \n",
       "13457     2.6  \n",
       "13458       3  \n",
       "13459     2.9  \n",
       "13460     2.4  \n",
       "13461     2.7  \n",
       "\n",
       "[13462 rows x 5 columns]"
      ]
     },
     "execution_count": 24,
     "metadata": {},
     "output_type": "execute_result"
    }
   ],
   "source": [
    "total"
   ]
  },
  {
   "cell_type": "code",
   "execution_count": 40,
   "id": "ee396ba8-fe74-4081-9d58-6e96cfb26a7e",
   "metadata": {},
   "outputs": [],
   "source": [
    "for i in range(total.shape[0]):\n",
    "    text = total.iloc[i, 1]\n",
    "    text = text.replace('c/','').replace('n/','').replace('N/','').replace('u/','').replace('l/','')\n",
    "    text = text.replace('b/','').replace('*','').replace('+','').replace(',','')\n",
    "    total.iloc[i, 1] = text"
   ]
  },
  {
   "cell_type": "code",
   "execution_count": 42,
   "id": "1e8696d2-d0e4-4fef-b057-79ebbf5b7b8a",
   "metadata": {},
   "outputs": [],
   "source": [
    "list_id = []\n",
    "list_sex = []\n",
    "for i in range(total.shape[0]):\n",
    "    list_id.append(total.iloc[i, 0][16:-4])\n",
    "    list_sex.append(total.iloc[i, 0][39])\n",
    "    \n",
    "total['id'] = list_id\n",
    "total['Sex'] = list_sex"
   ]
  },
  {
   "cell_type": "code",
   "execution_count": 43,
   "id": "afd97016-7911-4a6b-881b-3dcbd90d9644",
   "metadata": {},
   "outputs": [
    {
     "data": {
      "text/html": [
       "<div>\n",
       "<style scoped>\n",
       "    .dataframe tbody tr th:only-of-type {\n",
       "        vertical-align: middle;\n",
       "    }\n",
       "\n",
       "    .dataframe tbody tr th {\n",
       "        vertical-align: top;\n",
       "    }\n",
       "\n",
       "    .dataframe thead th {\n",
       "        text-align: right;\n",
       "    }\n",
       "</style>\n",
       "<table border=\"1\" class=\"dataframe\">\n",
       "  <thead>\n",
       "    <tr style=\"text-align: right;\">\n",
       "      <th></th>\n",
       "      <th>id</th>\n",
       "      <th>Sex</th>\n",
       "      <th>Emotion</th>\n",
       "      <th>Arousal</th>\n",
       "      <th>Valence</th>\n",
       "    </tr>\n",
       "  </thead>\n",
       "  <tbody>\n",
       "    <tr>\n",
       "      <th>0</th>\n",
       "      <td>Sess01_script01_User001F_001</td>\n",
       "      <td>F</td>\n",
       "      <td>neutral</td>\n",
       "      <td>2.8</td>\n",
       "      <td>3.8</td>\n",
       "    </tr>\n",
       "    <tr>\n",
       "      <th>1</th>\n",
       "      <td>Sess01_script01_User001F_002</td>\n",
       "      <td>F</td>\n",
       "      <td>neutral</td>\n",
       "      <td>3.1</td>\n",
       "      <td>3.3</td>\n",
       "    </tr>\n",
       "    <tr>\n",
       "      <th>2</th>\n",
       "      <td>Sess01_script01_User001F_003</td>\n",
       "      <td>F</td>\n",
       "      <td>neutral</td>\n",
       "      <td>3.1</td>\n",
       "      <td>3.3</td>\n",
       "    </tr>\n",
       "    <tr>\n",
       "      <th>3</th>\n",
       "      <td>Sess01_script01_User001F_004</td>\n",
       "      <td>F</td>\n",
       "      <td>happy</td>\n",
       "      <td>3.1</td>\n",
       "      <td>3.6</td>\n",
       "    </tr>\n",
       "    <tr>\n",
       "      <th>4</th>\n",
       "      <td>Sess01_script01_User001F_005</td>\n",
       "      <td>F</td>\n",
       "      <td>neutral</td>\n",
       "      <td>3.2</td>\n",
       "      <td>3.5</td>\n",
       "    </tr>\n",
       "  </tbody>\n",
       "</table>\n",
       "</div>"
      ],
      "text/plain": [
       "                             id Sex  Emotion Arousal Valence\n",
       "0  Sess01_script01_User001F_001   F  neutral     2.8     3.8\n",
       "1  Sess01_script01_User001F_002   F  neutral     3.1     3.3\n",
       "2  Sess01_script01_User001F_003   F  neutral     3.1     3.3\n",
       "3  Sess01_script01_User001F_004   F    happy     3.1     3.6\n",
       "4  Sess01_script01_User001F_005   F  neutral     3.2     3.5"
      ]
     },
     "execution_count": 43,
     "metadata": {},
     "output_type": "execute_result"
    }
   ],
   "source": [
    "total = total[['id', 'Sex', 'Emotion', 'Arousal', 'Valence']]\n",
    "total.to_csv('C:\\\\Users\\\\USER\\\\PycharmProjects\\\\ERC\\\\data\\\\total.csv', index=False, encoding=\"utf-8-sig\") \n",
    "total.head()"
   ]
  },
  {
   "cell_type": "markdown",
   "id": "1ad33c5a-d8d7-4f63-81a5-dd5b72d51f35",
   "metadata": {},
   "source": [
    "불러오기\n",
    "---"
   ]
  },
  {
   "cell_type": "code",
   "execution_count": 81,
   "id": "5e5df1fd-04bc-409e-ab51-bf64a4b8e5fa",
   "metadata": {},
   "outputs": [],
   "source": [
    "sig_n = 'ibi' #eda, ibi, temp\n",
    "\n",
    "signal = pd.read_csv('data/t_{}.csv'.format(sig_n))\n",
    "total = pd.read_csv('data/total.csv')"
   ]
  },
  {
   "cell_type": "code",
   "execution_count": 82,
   "id": "f46198e3-3b2b-428f-9d4f-802876b55d5a",
   "metadata": {},
   "outputs": [],
   "source": [
    "list_emotion = ['neutral', 'happy', 'surprise', 'angry', 'sad', 'disqust', 'fear']\n",
    "condition = total['Emotion'].isin(list_emotion)\n",
    "total_new = total[condition]"
   ]
  },
  {
   "cell_type": "code",
   "execution_count": 83,
   "id": "65684238-6d29-42bb-aa7a-3cfac5c415d8",
   "metadata": {},
   "outputs": [],
   "source": [
    "#클래스 균형 맞추기\n",
    "df_valance = pd.DataFrame()\n",
    "for emo in list_emotion:\n",
    "    data_emo = total_new[total_new['Emotion'] == emo]\n",
    "    data_ds = resample(data_emo, n_samples=150, random_state=42)\n",
    "    df_valance = pd.concat([df_valance, data_ds])"
   ]
  },
  {
   "cell_type": "code",
   "execution_count": 87,
   "id": "3fc98c00-340f-4a1a-89dd-2c953c7d033d",
   "metadata": {},
   "outputs": [
    {
     "data": {
      "text/plain": [
       "Emotion \n",
       "neutral     11120\n",
       "happy        1183\n",
       "surprise      156\n",
       "angry         144\n",
       "sad           121\n",
       "disqust        61\n",
       "fear           43\n",
       "dtype: int64"
      ]
     },
     "execution_count": 87,
     "metadata": {},
     "output_type": "execute_result"
    }
   ],
   "source": [
    "total_new[['Emotion']].value_counts()\n",
    "#df_valance[['Emotion']].value_counts()"
   ]
  },
  {
   "cell_type": "code",
   "execution_count": 88,
   "id": "948b6c52-a439-4b64-ae88-7b530fec567a",
   "metadata": {},
   "outputs": [],
   "source": [
    "all_eda = df_valance.merge(signal, how='left', on='id')\n",
    "#all_eda = total_new.merge(signal, how='left', on='id')\n",
    "\n",
    "all_eda = all_eda.fillna(0)\n",
    "all_eda.to_csv('data/{}.csv'.format(sig_n), index=False)"
   ]
  },
  {
   "cell_type": "markdown",
   "id": "61a0d708-87c8-4422-aa12-b4e560069138",
   "metadata": {},
   "source": [
    "데이터 조합\n",
    "---"
   ]
  },
  {
   "cell_type": "code",
   "execution_count": 102,
   "id": "d57197f1-e48b-468a-8599-65e77e38ecff",
   "metadata": {},
   "outputs": [],
   "source": [
    "sig_n = 'temp' #eda, ibi, temp\n",
    "sig_n2 = 'ibi'\n",
    "\n",
    "signal = pd.read_csv('data/{}.csv'.format(sig_n))\n",
    "signal2 = pd.read_csv('data/{}.csv'.format(sig_n2))\n",
    "\n",
    "signal_new = signal.merge(signal2, how='inner', on=['id', 'Sex', 'Emotion', 'Arousal', 'Valence'] )\n",
    "signal_new.to_csv('data/{}_{}.csv'.format(sig_n, sig_n2), index=False)"
   ]
  },
  {
   "cell_type": "code",
   "execution_count": null,
   "id": "fde8c6ce-b0d0-4216-9312-caedc9a9336e",
   "metadata": {},
   "outputs": [],
   "source": []
  },
  {
   "cell_type": "code",
   "execution_count": null,
   "id": "ff79b0bd-698a-4e15-8d67-3cfdf1404265",
   "metadata": {},
   "outputs": [],
   "source": []
  }
 ],
 "metadata": {
  "kernelspec": {
   "display_name": "Python 3",
   "language": "python",
   "name": "python3"
  },
  "language_info": {
   "codemirror_mode": {
    "name": "ipython",
    "version": 3
   },
   "file_extension": ".py",
   "mimetype": "text/x-python",
   "name": "python",
   "nbconvert_exporter": "python",
   "pygments_lexer": "ipython3",
   "version": "3.9.13"
  }
 },
 "nbformat": 4,
 "nbformat_minor": 5
}
