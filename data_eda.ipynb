{
 "cells": [
  {
   "cell_type": "code",
   "execution_count": 1,
   "id": "8114391f-7b2d-4045-b2ba-d38569c37c7d",
   "metadata": {},
   "outputs": [],
   "source": [
    "import os\n",
    "import numpy as np\n",
    "import pandas as pd\n",
    "import matplotlib as mpl\n",
    "import matplotlib.pyplot as plt\n",
    "from tqdm import tqdm"
   ]
  },
  {
   "cell_type": "code",
   "execution_count": 2,
   "id": "a6dd2201-831f-42ef-8fb1-3281de290de4",
   "metadata": {},
   "outputs": [],
   "source": [
    "directory= 'C:\\\\Users\\\\USER\\\\PycharmProjects\\\\ERC\\\\'\n",
    "os.chdir(directory)"
   ]
  },
  {
   "cell_type": "code",
   "execution_count": 14,
   "id": "6588abf3-0045-4e27-96e0-97441abf2495",
   "metadata": {},
   "outputs": [],
   "source": [
    "eda = os.path.join(directory, 'data/20/EDA/')\n",
    "files_eda = os.listdir(eda)\n",
    "filescnt_eda = [e for e in files_eda]\n",
    "df_eda = pd.DataFrame()\n",
    "\n",
    "for e in filescnt_eda :\n",
    "    ann = os.path.join(directory, 'data/20/EDA/', e)\n",
    "    files = os.listdir(ann)\n",
    "    filescnt_wav = [i for i in files if i.endswith('.csv')]\n",
    "    df_all = pd.DataFrame()\n",
    "    \n",
    "    for i in range(0, len(filescnt_wav)) :\n",
    "        file = filescnt_wav[i]\n",
    "        df = pd.read_csv(os.path.join(ann, file), names=['value', 'time', 'id']) # time 오름차순으로 정렬하기\n",
    "        df_all = pd.concat([df_all, df])\n",
    "\n",
    "        sess_df = df_all.drop([0],axis = 0)\n",
    "        sess_df.dropna(axis=0, inplace=True)\n",
    "        \n",
    "        \n",
    "    df_eda = pd.concat([df_eda, sess_df])\n",
    "    df_eda.drop(['time'], axis='columns', inplace=True)"
   ]
  },
  {
   "cell_type": "code",
   "execution_count": 29,
   "id": "e8bc6399-709e-4175-98e4-8b7536a33df5",
   "metadata": {},
   "outputs": [
    {
     "data": {
      "text/html": [
       "<div>\n",
       "<style scoped>\n",
       "    .dataframe tbody tr th:only-of-type {\n",
       "        vertical-align: middle;\n",
       "    }\n",
       "\n",
       "    .dataframe tbody tr th {\n",
       "        vertical-align: top;\n",
       "    }\n",
       "\n",
       "    .dataframe thead th {\n",
       "        text-align: right;\n",
       "    }\n",
       "</style>\n",
       "<table border=\"1\" class=\"dataframe\">\n",
       "  <thead>\n",
       "    <tr style=\"text-align: right;\">\n",
       "      <th></th>\n",
       "      <th>value</th>\n",
       "      <th>id</th>\n",
       "    </tr>\n",
       "  </thead>\n",
       "  <tbody>\n",
       "    <tr>\n",
       "      <th>343</th>\n",
       "      <td>4.412055</td>\n",
       "      <td>Sess01_script01_User001F_001</td>\n",
       "    </tr>\n",
       "    <tr>\n",
       "      <th>344</th>\n",
       "      <td>4.536246</td>\n",
       "      <td>Sess01_script01_User001F_001</td>\n",
       "    </tr>\n",
       "    <tr>\n",
       "      <th>345</th>\n",
       "      <td>4.630991</td>\n",
       "      <td>Sess01_script01_User001F_001</td>\n",
       "    </tr>\n",
       "    <tr>\n",
       "      <th>346</th>\n",
       "      <td>4.669401</td>\n",
       "      <td>Sess01_script01_User001F_001</td>\n",
       "    </tr>\n",
       "    <tr>\n",
       "      <th>347</th>\n",
       "      <td>4.661719</td>\n",
       "      <td>Sess01_script01_User001F_001</td>\n",
       "    </tr>\n",
       "    <tr>\n",
       "      <th>...</th>\n",
       "      <td>...</td>\n",
       "      <td>...</td>\n",
       "    </tr>\n",
       "    <tr>\n",
       "      <th>2910</th>\n",
       "      <td>2.889028</td>\n",
       "      <td>Sess40_script06_User080F_025</td>\n",
       "    </tr>\n",
       "    <tr>\n",
       "      <th>2911</th>\n",
       "      <td>2.873669</td>\n",
       "      <td>Sess40_script06_User080F_025</td>\n",
       "    </tr>\n",
       "    <tr>\n",
       "      <th>2912</th>\n",
       "      <td>2.855750</td>\n",
       "      <td>Sess40_script06_User080F_025</td>\n",
       "    </tr>\n",
       "    <tr>\n",
       "      <th>2913</th>\n",
       "      <td>2.835270</td>\n",
       "      <td>Sess40_script06_User080F_025</td>\n",
       "    </tr>\n",
       "    <tr>\n",
       "      <th>2914</th>\n",
       "      <td>2.818631</td>\n",
       "      <td>Sess40_script06_User080F_025</td>\n",
       "    </tr>\n",
       "  </tbody>\n",
       "</table>\n",
       "<p>316816 rows × 2 columns</p>\n",
       "</div>"
      ],
      "text/plain": [
       "         value                            id\n",
       "343   4.412055  Sess01_script01_User001F_001\n",
       "344   4.536246  Sess01_script01_User001F_001\n",
       "345   4.630991  Sess01_script01_User001F_001\n",
       "346   4.669401  Sess01_script01_User001F_001\n",
       "347   4.661719  Sess01_script01_User001F_001\n",
       "...        ...                           ...\n",
       "2910  2.889028  Sess40_script06_User080F_025\n",
       "2911  2.873669  Sess40_script06_User080F_025\n",
       "2912  2.855750  Sess40_script06_User080F_025\n",
       "2913  2.835270  Sess40_script06_User080F_025\n",
       "2914  2.818631  Sess40_script06_User080F_025\n",
       "\n",
       "[316816 rows x 2 columns]"
      ]
     },
     "execution_count": 29,
     "metadata": {},
     "output_type": "execute_result"
    }
   ],
   "source": [
    "df_eda"
   ]
  },
  {
   "cell_type": "code",
   "execution_count": null,
   "id": "7dbdd3d3-67c8-4d1d-b1e7-3aaa45b4334b",
   "metadata": {},
   "outputs": [],
   "source": []
  }
 ],
 "metadata": {
  "kernelspec": {
   "display_name": "Python 3",
   "language": "python",
   "name": "python3"
  },
  "language_info": {
   "codemirror_mode": {
    "name": "ipython",
    "version": 3
   },
   "file_extension": ".py",
   "mimetype": "text/x-python",
   "name": "python",
   "nbconvert_exporter": "python",
   "pygments_lexer": "ipython3",
   "version": "3.9.13"
  }
 },
 "nbformat": 4,
 "nbformat_minor": 5
}
