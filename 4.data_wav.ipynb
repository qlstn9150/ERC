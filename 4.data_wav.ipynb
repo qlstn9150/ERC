{
 "cells": [
  {
   "cell_type": "code",
   "execution_count": null,
   "id": "94d1014d-64d8-4164-90e7-f85db0786622",
   "metadata": {},
   "outputs": [],
   "source": [
    "import os\n",
    "import librosa\n",
    "import numpy as np\n",
    "import pandas as pd\n",
    "import matplotlib.pyplot as plt\n",
    "from tqdm import tqdm"
   ]
  },
  {
   "cell_type": "code",
   "execution_count": 8,
   "id": "a0ec8ceb-1b4c-4115-96dc-3d384ce3cff9",
   "metadata": {},
   "outputs": [],
   "source": [
    "#경로 설정\n",
    "directory= 'C:\\\\Users\\\\USER\\\\PycharmProjects\\\\ERC\\\\'\n",
    "os.chdir(directory)"
   ]
  },
  {
   "cell_type": "code",
   "execution_count": 15,
   "id": "88c66f99-ca17-4ecd-8a31-cd989afcd8d9",
   "metadata": {},
   "outputs": [
    {
     "data": {
      "text/html": [
       "<div>\n",
       "<style scoped>\n",
       "    .dataframe tbody tr th:only-of-type {\n",
       "        vertical-align: middle;\n",
       "    }\n",
       "\n",
       "    .dataframe tbody tr th {\n",
       "        vertical-align: top;\n",
       "    }\n",
       "\n",
       "    .dataframe thead th {\n",
       "        text-align: right;\n",
       "    }\n",
       "</style>\n",
       "<table border=\"1\" class=\"dataframe\">\n",
       "  <thead>\n",
       "    <tr style=\"text-align: right;\">\n",
       "      <th></th>\n",
       "      <th>wav</th>\n",
       "      <th>Emotion</th>\n",
       "    </tr>\n",
       "  </thead>\n",
       "  <tbody>\n",
       "    <tr>\n",
       "      <th>0</th>\n",
       "      <td>wav//Session14//Sess14_script01_User027F_028.wav</td>\n",
       "      <td>neutral</td>\n",
       "    </tr>\n",
       "    <tr>\n",
       "      <th>1</th>\n",
       "      <td>wav//Session06//Sess06_script01_User011M_027.wav</td>\n",
       "      <td>neutral</td>\n",
       "    </tr>\n",
       "    <tr>\n",
       "      <th>2</th>\n",
       "      <td>wav//Session20//Sess20_script01_User039M_012.wav</td>\n",
       "      <td>neutral</td>\n",
       "    </tr>\n",
       "    <tr>\n",
       "      <th>3</th>\n",
       "      <td>wav//Session30//Sess30_script03_User059F_013.wav</td>\n",
       "      <td>neutral</td>\n",
       "    </tr>\n",
       "    <tr>\n",
       "      <th>4</th>\n",
       "      <td>wav//Session37//Sess37_script01_User073F_030.wav</td>\n",
       "      <td>neutral</td>\n",
       "    </tr>\n",
       "    <tr>\n",
       "      <th>...</th>\n",
       "      <td>...</td>\n",
       "      <td>...</td>\n",
       "    </tr>\n",
       "    <tr>\n",
       "      <th>995</th>\n",
       "      <td>wav//Session40//Sess40_script05_User079F_039.wav</td>\n",
       "      <td>sad</td>\n",
       "    </tr>\n",
       "    <tr>\n",
       "      <th>996</th>\n",
       "      <td>wav//Session22//Sess22_script04_User044F_025.wav</td>\n",
       "      <td>sad</td>\n",
       "    </tr>\n",
       "    <tr>\n",
       "      <th>997</th>\n",
       "      <td>wav//Session08//Sess08_script06_User015F_011.wav</td>\n",
       "      <td>sad</td>\n",
       "    </tr>\n",
       "    <tr>\n",
       "      <th>998</th>\n",
       "      <td>wav//Session08//Sess08_script06_User015F_018.wav</td>\n",
       "      <td>sad</td>\n",
       "    </tr>\n",
       "    <tr>\n",
       "      <th>999</th>\n",
       "      <td>wav//Session39//Sess39_script05_User077F_023.wav</td>\n",
       "      <td>sad</td>\n",
       "    </tr>\n",
       "  </tbody>\n",
       "</table>\n",
       "<p>1000 rows × 2 columns</p>\n",
       "</div>"
      ],
      "text/plain": [
       "                                                  wav  Emotion\n",
       "0    wav//Session14//Sess14_script01_User027F_028.wav  neutral\n",
       "1    wav//Session06//Sess06_script01_User011M_027.wav  neutral\n",
       "2    wav//Session20//Sess20_script01_User039M_012.wav  neutral\n",
       "3    wav//Session30//Sess30_script03_User059F_013.wav  neutral\n",
       "4    wav//Session37//Sess37_script01_User073F_030.wav  neutral\n",
       "..                                                ...      ...\n",
       "995  wav//Session40//Sess40_script05_User079F_039.wav      sad\n",
       "996  wav//Session22//Sess22_script04_User044F_025.wav      sad\n",
       "997  wav//Session08//Sess08_script06_User015F_011.wav      sad\n",
       "998  wav//Session08//Sess08_script06_User015F_018.wav      sad\n",
       "999  wav//Session39//Sess39_script05_User077F_023.wav      sad\n",
       "\n",
       "[1000 rows x 2 columns]"
      ]
     },
     "execution_count": 15,
     "metadata": {},
     "output_type": "execute_result"
    }
   ],
   "source": [
    "file_wav = pd.read_csv(directory+'data/wav_bal.csv')\n",
    "file_wav"
   ]
  },
  {
   "cell_type": "code",
   "execution_count": 45,
   "id": "842eb107-2235-4a75-a156-217b05c6cd12",
   "metadata": {},
   "outputs": [],
   "source": [
    "def mfcc(wav_path, f, emo):\n",
    "    y, sr = librosa.load(os.path.join(wav_path, f))\n",
    "    D = np.abs(librosa.stft(y, n_fft=4096, win_length = 4096, hop_length=1024))\n",
    "    mfcc = librosa.feature.mfcc(S=librosa.power_to_db(D), sr=sr, n_mfcc=100)\n",
    "    librosa.display.specshow(librosa.amplitude_to_db(mfcc, ref=0.00002), sr=sr, hop_length = 1024, y_axis='mel', x_axis='time')#, cmap = cm.jet)\n",
    "    \n",
    "    f_new = f[16:-4]\n",
    "    plt.savefig('img/wav/{}/{}.png'.format(emo, f_new))"
   ]
  },
  {
   "cell_type": "code",
   "execution_count": null,
   "id": "f0112d92-4eb6-4900-8abd-4972295b6221",
   "metadata": {},
   "outputs": [],
   "source": [
    "emo = 'sad'\n",
    "wav_path = 'data/20/'\n",
    "\n",
    "for i in tqdm(file_wav.index):\n",
    "    emo = file_wav['Emotion'][i]\n",
    "    f = file_wav['wav'][i]\n",
    "    mfcc(wav_path, f, emo)"
   ]
  },
  {
   "cell_type": "code",
   "execution_count": null,
   "id": "e6c3a2e0-5128-439e-8c48-d7c9c3d0110c",
   "metadata": {},
   "outputs": [],
   "source": [
    "y, sr = librosa.load(os.path.join(ann, file))"
   ]
  },
  {
   "cell_type": "code",
   "execution_count": null,
   "id": "8c12bec1-5b1e-456d-a0e2-dd2ab899c977",
   "metadata": {},
   "outputs": [],
   "source": [
    "#푸리에 변환\n",
    "stft_result = librosa.stft(y, n_fft=4096, win_length = 4096, hop_length=1024)\n",
    "D = np.abs(stft_result)\n",
    "S_dB = librosa.power_to_db(D, ref=np.max)\n",
    "librosa.display.specshow(S_dB, sr=sr, hop_length = 1024, y_axis='linear', x_axis='time')#, cmap = cm.jet)\n",
    "plt.colorbar(format='%2.0f dB')\n",
    "plt.show()"
   ]
  },
  {
   "cell_type": "code",
   "execution_count": null,
   "id": "7791700f-a4af-4e62-ac65-2fa6b452fdbc",
   "metadata": {},
   "outputs": [],
   "source": [
    "#mel spectrogram\n",
    "stft_result = librosa.stft(y, n_fft=4096, win_length = 4096, hop_length=1024)\n",
    "D = np.abs(stft_result)\n",
    "mel_spec = librosa.feature.melspectrogram(S=D, sr=sr, n_mels=30, hop_length=1024, win_length=4096)\n",
    "librosa.display.specshow(librosa.amplitude_to_db(mel_spec, ref=0.00002), sr=sr, hop_length = 1024, y_axis='mel', x_axis='time')#, cmap = cm.jet)\n",
    "plt.colorbar(format='%2.0f dB')\n",
    "plt.show()"
   ]
  },
  {
   "cell_type": "code",
   "execution_count": null,
   "id": "cd115d9e-ac51-4293-9860-b4dcd9f19d99",
   "metadata": {},
   "outputs": [],
   "source": [
    "#mfcc\n",
    "D = np.abs(librosa.stft(y, n_fft=4096, win_length = 4096, hop_length=1024))\n",
    "mfcc = librosa.feature.mfcc(S=librosa.power_to_db(D), sr=sr, n_mfcc=100)\n",
    "librosa.display.specshow(librosa.amplitude_to_db(mfcc, ref=0.00002), sr=sr, hop_length = 1024, y_axis='mel', x_axis='time')#, cmap = cm.jet)\n",
    "plt.colorbar(format='%2.0f dB')\n",
    "plt.show()"
   ]
  },
  {
   "cell_type": "code",
   "execution_count": null,
   "id": "a9583e10-d677-46d1-9642-82fcbd89980a",
   "metadata": {},
   "outputs": [],
   "source": []
  }
 ],
 "metadata": {
  "kernelspec": {
   "display_name": "Python 3",
   "language": "python",
   "name": "python3"
  },
  "language_info": {
   "codemirror_mode": {
    "name": "ipython",
    "version": 3
   },
   "file_extension": ".py",
   "mimetype": "text/x-python",
   "name": "python",
   "nbconvert_exporter": "python",
   "pygments_lexer": "ipython3",
   "version": "3.9.13"
  }
 },
 "nbformat": 4,
 "nbformat_minor": 5
}
